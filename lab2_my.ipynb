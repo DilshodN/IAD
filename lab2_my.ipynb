{
 "cells": [
  {
   "cell_type": "code",
   "execution_count": 1,
   "id": "91141668",
   "metadata": {},
   "outputs": [],
   "source": [
    "import numpy as np\n",
    "import sklearn\n",
    "import pandas as pd\n",
    "import seaborn as sns\n",
    "import matplotlib.pyplot as plt\n",
    "from sklearn.preprocessing import OrdinalEncoder\n",
    "from sklearn.model_selection import train_test_split\n",
    "from sklearn.metrics import classification_report\n",
    "from sklearn.naive_bayes import GaussianNB\n",
    "from sklearn.metrics import accuracy_score\n",
    "from sklearn.naive_bayes import CategoricalNB\n",
    "from sklearn.metrics import accuracy_score\n",
    "from sklearn.preprocessing import LabelEncoder\n",
    "from sklearn.preprocessing import OneHotEncoder\n",
    "from sklearn.compose import make_column_transformer\n",
    "from sklearn import preprocessing"
   ]
  },
  {
   "cell_type": "code",
   "execution_count": 2,
   "id": "de58f5fc",
   "metadata": {},
   "outputs": [],
   "source": [
    "mashrooms = pd.read_csv('mushrooms.csv')"
   ]
  },
  {
   "cell_type": "code",
   "execution_count": 3,
   "id": "785cb6fa",
   "metadata": {},
   "outputs": [
    {
     "data": {
      "text/html": [
       "<div>\n",
       "<style scoped>\n",
       "    .dataframe tbody tr th:only-of-type {\n",
       "        vertical-align: middle;\n",
       "    }\n",
       "\n",
       "    .dataframe tbody tr th {\n",
       "        vertical-align: top;\n",
       "    }\n",
       "\n",
       "    .dataframe thead th {\n",
       "        text-align: right;\n",
       "    }\n",
       "</style>\n",
       "<table border=\"1\" class=\"dataframe\">\n",
       "  <thead>\n",
       "    <tr style=\"text-align: right;\">\n",
       "      <th></th>\n",
       "      <th>class</th>\n",
       "      <th>cap-shape</th>\n",
       "      <th>cap-surface</th>\n",
       "      <th>cap-color</th>\n",
       "      <th>bruises</th>\n",
       "      <th>odor</th>\n",
       "      <th>gill-attachment</th>\n",
       "      <th>gill-spacing</th>\n",
       "      <th>gill-size</th>\n",
       "      <th>gill-color</th>\n",
       "      <th>...</th>\n",
       "      <th>stalk-surface-below-ring</th>\n",
       "      <th>stalk-color-above-ring</th>\n",
       "      <th>stalk-color-below-ring</th>\n",
       "      <th>veil-type</th>\n",
       "      <th>veil-color</th>\n",
       "      <th>ring-number</th>\n",
       "      <th>ring-type</th>\n",
       "      <th>spore-print-color</th>\n",
       "      <th>population</th>\n",
       "      <th>habitat</th>\n",
       "    </tr>\n",
       "  </thead>\n",
       "  <tbody>\n",
       "    <tr>\n",
       "      <th>0</th>\n",
       "      <td>p</td>\n",
       "      <td>x</td>\n",
       "      <td>s</td>\n",
       "      <td>n</td>\n",
       "      <td>t</td>\n",
       "      <td>p</td>\n",
       "      <td>f</td>\n",
       "      <td>c</td>\n",
       "      <td>n</td>\n",
       "      <td>k</td>\n",
       "      <td>...</td>\n",
       "      <td>s</td>\n",
       "      <td>w</td>\n",
       "      <td>w</td>\n",
       "      <td>p</td>\n",
       "      <td>w</td>\n",
       "      <td>o</td>\n",
       "      <td>p</td>\n",
       "      <td>k</td>\n",
       "      <td>s</td>\n",
       "      <td>u</td>\n",
       "    </tr>\n",
       "    <tr>\n",
       "      <th>1</th>\n",
       "      <td>e</td>\n",
       "      <td>x</td>\n",
       "      <td>s</td>\n",
       "      <td>y</td>\n",
       "      <td>t</td>\n",
       "      <td>a</td>\n",
       "      <td>f</td>\n",
       "      <td>c</td>\n",
       "      <td>b</td>\n",
       "      <td>k</td>\n",
       "      <td>...</td>\n",
       "      <td>s</td>\n",
       "      <td>w</td>\n",
       "      <td>w</td>\n",
       "      <td>p</td>\n",
       "      <td>w</td>\n",
       "      <td>o</td>\n",
       "      <td>p</td>\n",
       "      <td>n</td>\n",
       "      <td>n</td>\n",
       "      <td>g</td>\n",
       "    </tr>\n",
       "    <tr>\n",
       "      <th>2</th>\n",
       "      <td>e</td>\n",
       "      <td>b</td>\n",
       "      <td>s</td>\n",
       "      <td>w</td>\n",
       "      <td>t</td>\n",
       "      <td>l</td>\n",
       "      <td>f</td>\n",
       "      <td>c</td>\n",
       "      <td>b</td>\n",
       "      <td>n</td>\n",
       "      <td>...</td>\n",
       "      <td>s</td>\n",
       "      <td>w</td>\n",
       "      <td>w</td>\n",
       "      <td>p</td>\n",
       "      <td>w</td>\n",
       "      <td>o</td>\n",
       "      <td>p</td>\n",
       "      <td>n</td>\n",
       "      <td>n</td>\n",
       "      <td>m</td>\n",
       "    </tr>\n",
       "    <tr>\n",
       "      <th>3</th>\n",
       "      <td>p</td>\n",
       "      <td>x</td>\n",
       "      <td>y</td>\n",
       "      <td>w</td>\n",
       "      <td>t</td>\n",
       "      <td>p</td>\n",
       "      <td>f</td>\n",
       "      <td>c</td>\n",
       "      <td>n</td>\n",
       "      <td>n</td>\n",
       "      <td>...</td>\n",
       "      <td>s</td>\n",
       "      <td>w</td>\n",
       "      <td>w</td>\n",
       "      <td>p</td>\n",
       "      <td>w</td>\n",
       "      <td>o</td>\n",
       "      <td>p</td>\n",
       "      <td>k</td>\n",
       "      <td>s</td>\n",
       "      <td>u</td>\n",
       "    </tr>\n",
       "    <tr>\n",
       "      <th>4</th>\n",
       "      <td>e</td>\n",
       "      <td>x</td>\n",
       "      <td>s</td>\n",
       "      <td>g</td>\n",
       "      <td>f</td>\n",
       "      <td>n</td>\n",
       "      <td>f</td>\n",
       "      <td>w</td>\n",
       "      <td>b</td>\n",
       "      <td>k</td>\n",
       "      <td>...</td>\n",
       "      <td>s</td>\n",
       "      <td>w</td>\n",
       "      <td>w</td>\n",
       "      <td>p</td>\n",
       "      <td>w</td>\n",
       "      <td>o</td>\n",
       "      <td>e</td>\n",
       "      <td>n</td>\n",
       "      <td>a</td>\n",
       "      <td>g</td>\n",
       "    </tr>\n",
       "  </tbody>\n",
       "</table>\n",
       "<p>5 rows × 23 columns</p>\n",
       "</div>"
      ],
      "text/plain": [
       "  class cap-shape cap-surface cap-color bruises odor gill-attachment  \\\n",
       "0     p         x           s         n       t    p               f   \n",
       "1     e         x           s         y       t    a               f   \n",
       "2     e         b           s         w       t    l               f   \n",
       "3     p         x           y         w       t    p               f   \n",
       "4     e         x           s         g       f    n               f   \n",
       "\n",
       "  gill-spacing gill-size gill-color  ... stalk-surface-below-ring  \\\n",
       "0            c         n          k  ...                        s   \n",
       "1            c         b          k  ...                        s   \n",
       "2            c         b          n  ...                        s   \n",
       "3            c         n          n  ...                        s   \n",
       "4            w         b          k  ...                        s   \n",
       "\n",
       "  stalk-color-above-ring stalk-color-below-ring veil-type veil-color  \\\n",
       "0                      w                      w         p          w   \n",
       "1                      w                      w         p          w   \n",
       "2                      w                      w         p          w   \n",
       "3                      w                      w         p          w   \n",
       "4                      w                      w         p          w   \n",
       "\n",
       "  ring-number ring-type spore-print-color population habitat  \n",
       "0           o         p                 k          s       u  \n",
       "1           o         p                 n          n       g  \n",
       "2           o         p                 n          n       m  \n",
       "3           o         p                 k          s       u  \n",
       "4           o         e                 n          a       g  \n",
       "\n",
       "[5 rows x 23 columns]"
      ]
     },
     "execution_count": 3,
     "metadata": {},
     "output_type": "execute_result"
    }
   ],
   "source": [
    "mashrooms.head()"
   ]
  },
  {
   "cell_type": "code",
   "execution_count": 4,
   "id": "0b11f7b4",
   "metadata": {},
   "outputs": [],
   "source": [
    "mushrooms_freq = []\n",
    "props = mashrooms.drop(columns=['class']).columns\n",
    "\n",
    "for p in props:\n",
    "    result = mashrooms[['class', p]].groupby('class').value_counts(normalize=True).reset_index()\n",
    "    result = result.rename(columns={p: 'p_data', 0: 'p_freq'})\n",
    "    result['p_name'] = p\n",
    "    mushrooms_freq.append(result)\n",
    "\n",
    "mushrooms_freq = pd.concat(mushrooms_freq)"
   ]
  },
  {
   "cell_type": "code",
   "execution_count": 5,
   "id": "7317e153",
   "metadata": {},
   "outputs": [
    {
     "data": {
      "text/html": [
       "<div>\n",
       "<style scoped>\n",
       "    .dataframe tbody tr th:only-of-type {\n",
       "        vertical-align: middle;\n",
       "    }\n",
       "\n",
       "    .dataframe tbody tr th {\n",
       "        vertical-align: top;\n",
       "    }\n",
       "\n",
       "    .dataframe thead th {\n",
       "        text-align: right;\n",
       "    }\n",
       "</style>\n",
       "<table border=\"1\" class=\"dataframe\">\n",
       "  <thead>\n",
       "    <tr style=\"text-align: right;\">\n",
       "      <th></th>\n",
       "      <th>class</th>\n",
       "      <th>p_data</th>\n",
       "      <th>p_freq</th>\n",
       "      <th>p_name</th>\n",
       "    </tr>\n",
       "  </thead>\n",
       "  <tbody>\n",
       "    <tr>\n",
       "      <th>0</th>\n",
       "      <td>e</td>\n",
       "      <td>x</td>\n",
       "      <td>0.462928</td>\n",
       "      <td>cap-shape</td>\n",
       "    </tr>\n",
       "    <tr>\n",
       "      <th>1</th>\n",
       "      <td>e</td>\n",
       "      <td>f</td>\n",
       "      <td>0.379278</td>\n",
       "      <td>cap-shape</td>\n",
       "    </tr>\n",
       "    <tr>\n",
       "      <th>2</th>\n",
       "      <td>e</td>\n",
       "      <td>b</td>\n",
       "      <td>0.096008</td>\n",
       "      <td>cap-shape</td>\n",
       "    </tr>\n",
       "    <tr>\n",
       "      <th>3</th>\n",
       "      <td>e</td>\n",
       "      <td>k</td>\n",
       "      <td>0.054183</td>\n",
       "      <td>cap-shape</td>\n",
       "    </tr>\n",
       "    <tr>\n",
       "      <th>4</th>\n",
       "      <td>e</td>\n",
       "      <td>s</td>\n",
       "      <td>0.007605</td>\n",
       "      <td>cap-shape</td>\n",
       "    </tr>\n",
       "  </tbody>\n",
       "</table>\n",
       "</div>"
      ],
      "text/plain": [
       "  class p_data    p_freq     p_name\n",
       "0     e      x  0.462928  cap-shape\n",
       "1     e      f  0.379278  cap-shape\n",
       "2     e      b  0.096008  cap-shape\n",
       "3     e      k  0.054183  cap-shape\n",
       "4     e      s  0.007605  cap-shape"
      ]
     },
     "execution_count": 5,
     "metadata": {},
     "output_type": "execute_result"
    }
   ],
   "source": [
    "mushrooms_freq.head()"
   ]
  },
  {
   "cell_type": "code",
   "execution_count": 6,
   "id": "37356b46",
   "metadata": {},
   "outputs": [],
   "source": [
    "def visualizePropsBar(props: list):\n",
    "    for p in props:\n",
    "        sns.catplot(x=p, data=mashrooms, hue='class', kind='count')"
   ]
  },
  {
   "cell_type": "code",
   "execution_count": 7,
   "id": "75557a1b",
   "metadata": {},
   "outputs": [
    {
     "data": {
      "image/png": "[encoded data removed]",
      "text/plain": [
       "<Figure size 558.875x500 with 1 Axes>"
      ]
     },
     "metadata": {},
     "output_type": "display_data"
    },
    {
     "data": {
      "image/png": "[encoded data removed]",
      "text/plain": [
       "<Figure size 558.875x500 with 1 Axes>"
      ]
     },
     "metadata": {},
     "output_type": "display_data"
    }
   ],
   "source": [
    "visualizePropsBar(props[1:3])"
   ]
  },
  {
   "cell_type": "code",
   "execution_count": 39,
   "id": "35112131",
   "metadata": {},
   "outputs": [],
   "source": [
    "X = mashrooms[['gill-attachment', 'gill-spacing','gill-size', 'gill-color']]\n",
    "y = mashrooms['class']\n",
    "\n",
    "X_train, X_test, y_train, y_test = train_test_split(X, y, test_size=0.33)"
   ]
  },
  {
   "cell_type": "code",
   "execution_count": 9,
   "id": "2058aa49",
   "metadata": {},
   "outputs": [
    {
     "data": {
      "text/html": [
       "<div>\n",
       "<style scoped>\n",
       "    .dataframe tbody tr th:only-of-type {\n",
       "        vertical-align: middle;\n",
       "    }\n",
       "\n",
       "    .dataframe tbody tr th {\n",
       "        vertical-align: top;\n",
       "    }\n",
       "\n",
       "    .dataframe thead th {\n",
       "        text-align: right;\n",
       "    }\n",
       "</style>\n",
       "<table border=\"1\" class=\"dataframe\">\n",
       "  <thead>\n",
       "    <tr style=\"text-align: right;\">\n",
       "      <th></th>\n",
       "      <th>gill-attachment</th>\n",
       "      <th>gill-spacing</th>\n",
       "      <th>gill-size</th>\n",
       "      <th>gill-color</th>\n",
       "    </tr>\n",
       "  </thead>\n",
       "  <tbody>\n",
       "    <tr>\n",
       "      <th>5720</th>\n",
       "      <td>f</td>\n",
       "      <td>c</td>\n",
       "      <td>b</td>\n",
       "      <td>w</td>\n",
       "    </tr>\n",
       "    <tr>\n",
       "      <th>551</th>\n",
       "      <td>f</td>\n",
       "      <td>w</td>\n",
       "      <td>b</td>\n",
       "      <td>h</td>\n",
       "    </tr>\n",
       "    <tr>\n",
       "      <th>2838</th>\n",
       "      <td>f</td>\n",
       "      <td>c</td>\n",
       "      <td>b</td>\n",
       "      <td>u</td>\n",
       "    </tr>\n",
       "    <tr>\n",
       "      <th>2750</th>\n",
       "      <td>f</td>\n",
       "      <td>c</td>\n",
       "      <td>b</td>\n",
       "      <td>n</td>\n",
       "    </tr>\n",
       "    <tr>\n",
       "      <th>2379</th>\n",
       "      <td>f</td>\n",
       "      <td>c</td>\n",
       "      <td>b</td>\n",
       "      <td>p</td>\n",
       "    </tr>\n",
       "    <tr>\n",
       "      <th>...</th>\n",
       "      <td>...</td>\n",
       "      <td>...</td>\n",
       "      <td>...</td>\n",
       "      <td>...</td>\n",
       "    </tr>\n",
       "    <tr>\n",
       "      <th>7922</th>\n",
       "      <td>a</td>\n",
       "      <td>c</td>\n",
       "      <td>b</td>\n",
       "      <td>o</td>\n",
       "    </tr>\n",
       "    <tr>\n",
       "      <th>6337</th>\n",
       "      <td>f</td>\n",
       "      <td>c</td>\n",
       "      <td>n</td>\n",
       "      <td>b</td>\n",
       "    </tr>\n",
       "    <tr>\n",
       "      <th>7363</th>\n",
       "      <td>f</td>\n",
       "      <td>c</td>\n",
       "      <td>n</td>\n",
       "      <td>b</td>\n",
       "    </tr>\n",
       "    <tr>\n",
       "      <th>8045</th>\n",
       "      <td>f</td>\n",
       "      <td>c</td>\n",
       "      <td>n</td>\n",
       "      <td>b</td>\n",
       "    </tr>\n",
       "    <tr>\n",
       "      <th>4171</th>\n",
       "      <td>f</td>\n",
       "      <td>c</td>\n",
       "      <td>b</td>\n",
       "      <td>h</td>\n",
       "    </tr>\n",
       "  </tbody>\n",
       "</table>\n",
       "<p>2681 rows × 4 columns</p>\n",
       "</div>"
      ],
      "text/plain": [
       "     gill-attachment gill-spacing gill-size gill-color\n",
       "5720               f            c         b          w\n",
       "551                f            w         b          h\n",
       "2838               f            c         b          u\n",
       "2750               f            c         b          n\n",
       "2379               f            c         b          p\n",
       "...              ...          ...       ...        ...\n",
       "7922               a            c         b          o\n",
       "6337               f            c         n          b\n",
       "7363               f            c         n          b\n",
       "8045               f            c         n          b\n",
       "4171               f            c         b          h\n",
       "\n",
       "[2681 rows x 4 columns]"
      ]
     },
     "execution_count": 9,
     "metadata": {},
     "output_type": "execute_result"
    }
   ],
   "source": [
    "X_test"
   ]
  },
  {
   "cell_type": "code",
   "execution_count": 10,
   "id": "08ef8f5b",
   "metadata": {},
   "outputs": [],
   "source": [
    "class BayesFreq:\n",
    "    def __init__(self, X, y):\n",
    "        self.X = X\n",
    "        self.y = y\n",
    "        self.probs = None\n",
    "    \n",
    "    def train(self, _lambda=0):\n",
    "        probs = []\n",
    "        for c in y.unique():\n",
    "            prob_class = []\n",
    "            for feature in X.columns:\n",
    "                prob_feature = {}\n",
    "                x = X[feature][y == c]\n",
    "                k = len(X[feature].unique())\n",
    "                for i in X[feature].unique():\n",
    "                    prob_feature[i] = (x[x == i].count() + _lambda) / (x.count() + _lambda * k)\n",
    "                prob_class.append(prob_feature)\n",
    "            probs.append(prob_class)\n",
    "        self.probs = np.array(probs)\n",
    "\n",
    "        \n",
    "    def predict(self, X, feature):\n",
    "        y_pred = []\n",
    "        idx = X.columns.get_loc(feature)\n",
    "        prob0_feature = self.probs[0][idx]\n",
    "        prob1_feature = self.probs[1][idx]\n",
    "        p0 = y[y == 'e'].count() / y.count()\n",
    "        p1 = y[y == 'p'].count() / y.count()\n",
    "        for k in (X[feature]):\n",
    "            y_pred.append('e' if p0 * prob0_feature[k] < p1 * prob1_feature[k] else 'p')\n",
    "        return np.array(y_pred)"
   ]
  },
  {
   "cell_type": "code",
   "execution_count": 11,
   "id": "18fdac18",
   "metadata": {},
   "outputs": [],
   "source": [
    "model = BayesFreq(X_train, y_train)\n",
    "model.train()"
   ]
  },
  {
   "cell_type": "code",
   "execution_count": 12,
   "id": "4af8c2b9",
   "metadata": {},
   "outputs": [],
   "source": [
    "results = {\n",
    "    'column_name': list(),\n",
    "    'acc_test': list()\n",
    "}\n",
    "for f in X_test.columns:\n",
    "    results['column_name'].append(f)\n",
    "    results['acc_test'].append(accuracy_score(y_test, model.predict(X_test,f)))"
   ]
  },
  {
   "cell_type": "code",
   "execution_count": 13,
   "id": "991a6180",
   "metadata": {},
   "outputs": [
    {
     "data": {
      "text/html": [
       "<div>\n",
       "<style scoped>\n",
       "    .dataframe tbody tr th:only-of-type {\n",
       "        vertical-align: middle;\n",
       "    }\n",
       "\n",
       "    .dataframe tbody tr th {\n",
       "        vertical-align: top;\n",
       "    }\n",
       "\n",
       "    .dataframe thead th {\n",
       "        text-align: right;\n",
       "    }\n",
       "</style>\n",
       "<table border=\"1\" class=\"dataframe\">\n",
       "  <thead>\n",
       "    <tr style=\"text-align: right;\">\n",
       "      <th></th>\n",
       "      <th>column_name</th>\n",
       "      <th>acc_test</th>\n",
       "    </tr>\n",
       "  </thead>\n",
       "  <tbody>\n",
       "    <tr>\n",
       "      <th>0</th>\n",
       "      <td>gill-attachment</td>\n",
       "      <td>0.490862</td>\n",
       "    </tr>\n",
       "    <tr>\n",
       "      <th>1</th>\n",
       "      <td>gill-spacing</td>\n",
       "      <td>0.610966</td>\n",
       "    </tr>\n",
       "    <tr>\n",
       "      <th>2</th>\n",
       "      <td>gill-size</td>\n",
       "      <td>0.761656</td>\n",
       "    </tr>\n",
       "    <tr>\n",
       "      <th>3</th>\n",
       "      <td>gill-color</td>\n",
       "      <td>0.803432</td>\n",
       "    </tr>\n",
       "  </tbody>\n",
       "</table>\n",
       "</div>"
      ],
      "text/plain": [
       "       column_name  acc_test\n",
       "0  gill-attachment  0.490862\n",
       "1     gill-spacing  0.610966\n",
       "2        gill-size  0.761656\n",
       "3       gill-color  0.803432"
      ]
     },
     "execution_count": 13,
     "metadata": {},
     "output_type": "execute_result"
    }
   ],
   "source": [
    "pd.DataFrame(results)"
   ]
  },
  {
   "cell_type": "code",
   "execution_count": 14,
   "id": "97e3321b",
   "metadata": {},
   "outputs": [],
   "source": [
    "X_c = X.copy()\n",
    "y_c = y.copy()\n",
    "for i in X_c:\n",
    "    X_c[i]=LabelEncoder().fit_transform(X_c[i])\n",
    "y_c = LabelEncoder().fit_transform(y_c)\n",
    "\n",
    "X_train, X_test, y_train, y_test = train_test_split(X_c, y_c, test_size=0.25, random_state=42)"
   ]
  },
  {
   "cell_type": "code",
   "execution_count": 15,
   "id": "9b6a90da",
   "metadata": {},
   "outputs": [
    {
     "name": "stdout",
     "output_type": "stream",
     "text": [
      "test 0.8769079271294928\n",
      "train 0.8696865255210898\n"
     ]
    }
   ],
   "source": [
    "model = sklearn.naive_bayes.CategoricalNB().fit(X_train,y_train)\n",
    "print('test',accuracy_score(y_test, model.predict(X_test)))\n",
    "print('train',accuracy_score(y_train, model.predict(X_train)))"
   ]
  },
  {
   "cell_type": "markdown",
   "id": "654fe95e",
   "metadata": {},
   "source": [
    "## Bayes from scratch"
   ]
  },
  {
   "cell_type": "code",
   "execution_count": 16,
   "id": "b449ab4c",
   "metadata": {},
   "outputs": [],
   "source": [
    "X = mashrooms[['gill-attachment', 'gill-spacing','gill-size', 'gill-color']]\n",
    "y = mashrooms['class']"
   ]
  },
  {
   "cell_type": "code",
   "execution_count": 17,
   "id": "6efeac57",
   "metadata": {},
   "outputs": [],
   "source": [
    "X_train, X_test, y_train, y_test = train_test_split(X, y, test_size=0.33)"
   ]
  },
  {
   "cell_type": "code",
   "execution_count": 22,
   "id": "9632e095",
   "metadata": {},
   "outputs": [],
   "source": [
    "def get_prob_col(column,j, alpha = 0):\n",
    "    prob = {}\n",
    "    x = X[column]\n",
    "    x = x[y == j]\n",
    "    k = len(X[column].unique())\n",
    "    for i in X[column].unique():\n",
    "        prob[i] = (x[x == i].count() + alpha) / (x.count() + alpha * k)\n",
    "    return prob\n",
    "\n",
    "def get_prob(j,alpha = 0): \n",
    "    prob = {}\n",
    "    for col in X.columns:\n",
    "        prob[col] = (get_prob_col(col,j,alpha))\n",
    "    return prob\n",
    "\n",
    "def predict(X, alpha = 0):\n",
    "    prob0 = get_prob('e',alpha= alpha)\n",
    "    prob1 = get_prob('p',alpha = alpha)\n",
    "    p0 = y[y == 'e'].count() / y.count()\n",
    "    p1 = y[y == 'p'].count() / y.count()\n",
    "    y_pred = []\n",
    "    for i in range(len(X)):\n",
    "        prod0 = p0\n",
    "        prod1 = p1\n",
    "        for col in X.columns:\n",
    "            prod0 *= prob0[col][X[i:i+1][col].values[0]]\n",
    "            prod1 *= prob1[col][X[i:i+1][col].values[0]] \n",
    "        if p0 * prod0 < p1 * prod1:\n",
    "            y_pred.append('p') \n",
    "        else:\n",
    "            y_pred.append('e')\n",
    "    return y_pred"
   ]
  },
  {
   "cell_type": "code",
   "execution_count": 23,
   "id": "99fba598",
   "metadata": {},
   "outputs": [],
   "source": [
    "X_train, X_test, y_train, y_test = train_test_split(X, y, test_size=0.33)"
   ]
  },
  {
   "cell_type": "code",
   "execution_count": 35,
   "id": "c6814f56",
   "metadata": {},
   "outputs": [
    {
     "name": "stdout",
     "output_type": "stream",
     "text": [
      "train: 0.8754363402535367\n",
      "test: 0.8634837747109287\n"
     ]
    }
   ],
   "source": [
    "print('train:',accuracy_score(predict(X_train, alpha= 1), y_train))\n",
    "print('test:',accuracy_score(predict(X_test, alpha= 1), y_test))"
   ]
  },
  {
   "cell_type": "code",
   "execution_count": 36,
   "id": "e62bb612",
   "metadata": {},
   "outputs": [],
   "source": [
    "# 5"
   ]
  },
  {
   "cell_type": "code",
   "execution_count": 37,
   "id": "380d159b",
   "metadata": {},
   "outputs": [],
   "source": [
    "from sklearn.linear_model import LogisticRegression"
   ]
  },
  {
   "cell_type": "code",
   "execution_count": 49,
   "id": "fafa440d",
   "metadata": {},
   "outputs": [],
   "source": [
    "X = mashrooms.drop(columns=['class'])\n",
    "y = mashrooms['class']"
   ]
  },
  {
   "cell_type": "code",
   "execution_count": 50,
   "id": "b828ce28",
   "metadata": {},
   "outputs": [
    {
     "name": "stderr",
     "output_type": "stream",
     "text": [
      "/usr/local/lib/python3.10/site-packages/sklearn/linear_model/_logistic.py:458: ConvergenceWarning: lbfgs failed to converge (status=1):\n",
      "STOP: TOTAL NO. of ITERATIONS REACHED LIMIT.\n",
      "\n",
      "Increase the number of iterations (max_iter) or scale the data as shown in:\n",
      "    https://scikit-learn.org/stable/modules/preprocessing.html\n",
      "Please also refer to the documentation for alternative solver options:\n",
      "    https://scikit-learn.org/stable/modules/linear_model.html#logistic-regression\n",
      "  n_iter_i = _check_optimize_result(\n"
     ]
    },
    {
     "name": "stdout",
     "output_type": "stream",
     "text": [
      "[0.84445265 0.20002515 0.06702046 ... 0.06827024 0.92579481 0.01165559]\n"
     ]
    },
    {
     "data": {
      "image/png": "[encoded data removed]",
      "text/plain": [
       "<Figure size 640x480 with 1 Axes>"
      ]
     },
     "metadata": {},
     "output_type": "display_data"
    }
   ],
   "source": [
    "model = LogisticRegression()\n",
    "X_c = X.copy()\n",
    "y_c = y.copy()\n",
    "for i in X_c:\n",
    "    X_c[i]=LabelEncoder().fit_transform(X_c[i])\n",
    "y_c = LabelEncoder().fit_transform(y_c)\n",
    "model.fit(X_c,y_c)\n",
    "probs = model.predict_proba(X_c)[:,1]\n",
    "print(probs) # просто логистическая регрессия\n",
    "plt.hist(probs, 50)\n",
    "plt.show()"
   ]
  },
  {
   "cell_type": "code",
   "execution_count": 52,
   "id": "28f41051",
   "metadata": {},
   "outputs": [
    {
     "name": "stderr",
     "output_type": "stream",
     "text": [
      "/usr/local/lib/python3.10/site-packages/sklearn/linear_model/_logistic.py:458: ConvergenceWarning: lbfgs failed to converge (status=1):\n",
      "STOP: TOTAL NO. of ITERATIONS REACHED LIMIT.\n",
      "\n",
      "Increase the number of iterations (max_iter) or scale the data as shown in:\n",
      "    https://scikit-learn.org/stable/modules/preprocessing.html\n",
      "Please also refer to the documentation for alternative solver options:\n",
      "    https://scikit-learn.org/stable/modules/linear_model.html#logistic-regression\n",
      "  n_iter_i = _check_optimize_result(\n"
     ]
    },
    {
     "name": "stdout",
     "output_type": "stream",
     "text": [
      "[0.99985067 0.00502964 0.06678227 ... 0.01288206 0.99999951 0.01775405]\n"
     ]
    },
    {
     "data": {
      "image/png": "[encoded data removed]",
      "text/plain": [
       "<Figure size 640x480 with 1 Axes>"
      ]
     },
     "metadata": {},
     "output_type": "display_data"
    }
   ],
   "source": [
    "model = LogisticRegression()\n",
    "X_c = X.copy()\n",
    "for col in X_c.columns: # для каждой колонки считаем оценки вероятности\n",
    "    prob = X_c[col].value_counts(normalize=True)\n",
    "    X_c[col] = X_c[col].apply(lambda x: prob[x])\n",
    "    X_c[col] = np.log(X_c[col]/(1-X_c[col])) # и делаем обратное логистическое преобразования\n",
    "    X_c[col] = X_c[col].apply(lambda x: 0 if x == np.inf else x) # при оценке вероятности 1 получается бесконечность, зануляем\n",
    "y_c = y.copy()\n",
    "y_c = LabelEncoder().fit_transform(y_c)\n",
    "model.fit(X_c,y_c)\n",
    "probs = model.predict_proba(X_c)[:,1]\n",
    "print(probs) # с обратным логистическим преобразованием\n",
    "plt.hist(probs, 50)\n",
    "plt.show()"
   ]
  },
  {
   "cell_type": "code",
   "execution_count": null,
   "id": "7776eb45",
   "metadata": {},
   "outputs": [],
   "source": []
  }
 ],
 "metadata": {
  "kernelspec": {
   "display_name": "Python 3 (ipykernel)",
   "language": "python",
   "name": "python3"
  },
  "language_info": {
   "codemirror_mode": {
    "name": "ipython",
    "version": 3
   },
   "file_extension": ".py",
   "mimetype": "text/x-python",
   "name": "python",
   "nbconvert_exporter": "python",
   "pygments_lexer": "ipython3",
   "version": "3.10.13"
  }
 },
 "nbformat": 4,
 "nbformat_minor": 5
}
